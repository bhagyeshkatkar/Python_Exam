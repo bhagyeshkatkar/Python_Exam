{
 "cells": [
  {
   "cell_type": "code",
   "execution_count": null,
   "id": "87587bf7-4df7-4144-a653-83d1c994364c",
   "metadata": {},
   "outputs": [],
   "source": [
    "Q.1 Problem:  Missing characters to form a Panagram"
   ]
  },
  {
   "cell_type": "code",
   "execution_count": 213,
   "id": "4370f0af-2742-458c-98d8-d86a1c914388",
   "metadata": {},
   "outputs": [],
   "source": [
    "def panagram():\n",
    "    string = str(\"adglyz\")\n",
    "    while True:\n",
    "        sorted(string)\n",
    "        string1 = str(\"The quick brown fox over the lazy dog\")\n",
    "        \n",
    "        if string1 == string:\n",
    "            print(string1.sort)\n",
    "            \n",
    "        \n",
    "        return string\n",
    "        break\n",
    "    "
   ]
  },
  {
   "cell_type": "code",
   "execution_count": 215,
   "id": "a0227928-08a1-4301-a3d1-d9eeaf436c2c",
   "metadata": {},
   "outputs": [
    {
     "name": "stdout",
     "output_type": "stream",
     "text": [
      "adglyz\n"
     ]
    }
   ],
   "source": [
    "data = panagram()\n",
    "print(data)"
   ]
  },
  {
   "cell_type": "code",
   "execution_count": null,
   "id": "b2fab341-88c6-4a79-b088-f779bab577e5",
   "metadata": {},
   "outputs": [],
   "source": []
  },
  {
   "cell_type": "code",
   "execution_count": null,
   "id": "1068a002-a789-4c5f-8460-6f53bb3d9b62",
   "metadata": {},
   "outputs": [],
   "source": [
    "Q.2 Problem:  Inventory Mangement System"
   ]
  },
  {
   "cell_type": "code",
   "execution_count": 219,
   "id": "4d3cca2c-618e-4374-8006-22ccdae770d5",
   "metadata": {},
   "outputs": [
    {
     "name": "stdin",
     "output_type": "stream",
     "text": [
      "Enter the name:  Bhagyesh\n",
      "Enter the Product name:  Dell Laptop \n",
      "Enter the category:  Inspiron I5 \n",
      "Enter the price:  70,000\n",
      "Enter the quantity:  20\n"
     ]
    },
    {
     "name": "stdout",
     "output_type": "stream",
     "text": [
      "Data saved in the file \n"
     ]
    }
   ],
   "source": [
    "user = input(\"Enter the name: \")\n",
    "file = open(\"inventory_data.txt\",\"w\")            #created a inventory_data file\n",
    "\n",
    "while True:\n",
    "    line = \"Enter the name of Inventory: \"\n",
    "\n",
    "    product_name = input(\"Enter the Product name: \")\n",
    "    category = input(\"Enter the category: \")        \n",
    "    price = input(\"Enter the price: \")\n",
    "    quantity = input(\"Enter the quantity: \")\n",
    "    if line == \"\":\n",
    "        file.write(product_name)\n",
    "        file.write(category)\n",
    "        file.write(price)                       #creted data parsing to read the data\n",
    "        file.write(quantity)\n",
    "        print(product_name)\n",
    "        print(category)\n",
    "        print(price)\n",
    "        print(quantity)\n",
    "        file.close()\n",
    "    print(\"Data saved in the file \")\n",
    "    break\n",
    "        "
   ]
  },
  {
   "cell_type": "code",
   "execution_count": 221,
   "id": "ee2639f2-0564-4e56-91d4-8a29ddbde6fe",
   "metadata": {},
   "outputs": [
    {
     "name": "stdout",
     "output_type": "stream",
     "text": [
      "Read the data from the file:  <_io.TextIOWrapper name='inventory_data.txt' mode='r' encoding='cp1252'>\n",
      "Price of the Product:  (70, 0)\n",
      "Quantity of the Product:  20\n",
      "Total Sale Revenue for each product:  (70, 0, 70, 0, 70, 0, 70, 0, 70, 0, 70, 0, 70, 0, 70, 0, 70, 0, 70, 0, 70, 0, 70, 0, 70, 0, 70, 0, 70, 0, 70, 0, 70, 0, 70, 0, 70, 0, 70, 0)\n"
     ]
    }
   ],
   "source": [
    "file = open(\"inventory_data.txt\",\"r\")\n",
    "file.read() \n",
    "file.close()  \n",
    "print(\"Read the data from the file: \",file)\n",
    "\n",
    "Price = 70,000\n",
    "Quantity = 20\n",
    "vaildate_product = 0\n",
    "if vaildate_product != 1:                #created validation for price and quantity\n",
    "    print(\"Price of the Product: \",Price)\n",
    "    print(\"Quantity of the Product: \",Quantity )\n",
    "\n",
    "# calculate_total_sales \n",
    "Revenue_calculation = 0\n",
    "\n",
    "if Revenue_calculation == 0:\n",
    "    calculate_total_sales = Price * Quantity\n",
    "    print(\"Total Sale Revenue for each product: \", calculate_total_sales)\n"
   ]
  },
  {
   "cell_type": "code",
   "execution_count": 243,
   "id": "3eb71200-6522-43c8-855f-ffd72611cd99",
   "metadata": {},
   "outputs": [
    {
     "name": "stdout",
     "output_type": "stream",
     "text": [
      "Report generate Successfully \n"
     ]
    }
   ],
   "source": [
    "#Report Generation\n",
    "generate_report = 0\n",
    "file = open(\"inventory_data.txt\",\"r\")\n",
    "while True:\n",
    "    line = \"Report generate\"\n",
    "    if line == \"\":\n",
    "        file.read(line)\n",
    "        file.close()\n",
    "        print(\"Report generate Successfully \")\n",
    "    break\n",
    "print(\"Report generate Successfully \")"
   ]
  },
  {
   "cell_type": "code",
   "execution_count": null,
   "id": "e14db8ee-b7e8-43d1-822e-f823b843a1e4",
   "metadata": {},
   "outputs": [],
   "source": []
  }
 ],
 "metadata": {
  "kernelspec": {
   "display_name": "Python 3 (ipykernel)",
   "language": "python",
   "name": "python3"
  },
  "language_info": {
   "codemirror_mode": {
    "name": "ipython",
    "version": 3
   },
   "file_extension": ".py",
   "mimetype": "text/x-python",
   "name": "python",
   "nbconvert_exporter": "python",
   "pygments_lexer": "ipython3",
   "version": "3.12.7"
  }
 },
 "nbformat": 4,
 "nbformat_minor": 5
}
